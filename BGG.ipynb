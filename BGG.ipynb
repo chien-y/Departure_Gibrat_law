{
  "nbformat": 4,
  "nbformat_minor": 0,
  "metadata": {
    "colab": {
      "name": "BGG.ipynb",
      "provenance": [],
      "collapsed_sections": [],
      "include_colab_link": true
    },
    "kernelspec": {
      "name": "python3",
      "display_name": "Python 3"
    },
    "language_info": {
      "name": "python"
    }
  },
  "cells": [
    {
      "cell_type": "markdown",
      "metadata": {
        "id": "view-in-github",
        "colab_type": "text"
      },
      "source": [
        "<a href=\"https://colab.research.google.com/github/chien-y/Departure_Gibrat_law/blob/main/BGG.ipynb\" target=\"_parent\"><img src=\"https://colab.research.google.com/assets/colab-badge.svg\" alt=\"Open In Colab\"/></a>"
      ]
    },
    {
      "cell_type": "code",
      "execution_count": null,
      "metadata": {
        "id": "wxnDhY8rejWQ",
        "colab": {
          "base_uri": "https://localhost:8080/"
        },
        "outputId": "7c667ae8-3509-4ea6-9a85-7e7e77fab47c"
      },
      "outputs": [
        {
          "output_type": "stream",
          "name": "stdout",
          "text": [
            "Collecting sequence_jacobian\n",
            "  Downloading sequence_jacobian-1.0.0-py3-none-any.whl (90 kB)\n",
            "\u001b[?25l\r\u001b[K     |███▋                            | 10 kB 17.9 MB/s eta 0:00:01\r\u001b[K     |███████▎                        | 20 kB 9.3 MB/s eta 0:00:01\r\u001b[K     |██████████▉                     | 30 kB 7.5 MB/s eta 0:00:01\r\u001b[K     |██████████████▌                 | 40 kB 6.9 MB/s eta 0:00:01\r\u001b[K     |██████████████████▏             | 51 kB 3.4 MB/s eta 0:00:01\r\u001b[K     |█████████████████████▊          | 61 kB 4.0 MB/s eta 0:00:01\r\u001b[K     |█████████████████████████▍      | 71 kB 4.2 MB/s eta 0:00:01\r\u001b[K     |█████████████████████████████   | 81 kB 4.5 MB/s eta 0:00:01\r\u001b[K     |████████████████████████████████| 90 kB 3.2 MB/s \n",
            "\u001b[?25hInstalling collected packages: sequence-jacobian\n",
            "Successfully installed sequence-jacobian-1.0.0\n"
          ]
        }
      ],
      "source": [
        "!pip install sequence_jacobian"
      ]
    },
    {
      "cell_type": "code",
      "source": [
        "import numpy as np\n",
        "import matplotlib.pyplot as plt"
      ],
      "metadata": {
        "id": "NMqHUiIFgh02"
      },
      "execution_count": null,
      "outputs": []
    },
    {
      "cell_type": "code",
      "source": [
        "from sequence_jacobian import simple, solved, combine, create_model  # functions\n",
        "from sequence_jacobian import grids, hetblocks                       # modules\n",
        "from sequence_jacobian import drawdag"
      ],
      "metadata": {
        "id": "gFe3VgNShCMY"
      },
      "execution_count": null,
      "outputs": []
    },
    {
      "cell_type": "markdown",
      "source": [
        "### Households\n",
        "$$\n",
        "\\max \\left\\{\n",
        "  \\sum_{s=0}^\\infty \\beta^s b_{t+s} \\left[\n",
        "    \\log(C_{t+s}) - \\psi \\frac{h_{t + s}^{1 + 1/\\nu}}{1 + 1 / \\nu}\n",
        "    \\right] \\right\\}\n",
        "$$\n",
        "Budget constraint:\n",
        "$$\n",
        "C_t + B_t = R_{t-1} B_{t-1} + w_t h_t + \\Theta_t\n",
        "$$\n",
        "First order conditions:\n",
        "$$\n",
        "1 = \\mathbb{E}_t \\left[\\beta \\frac{b_{t+1}}{b_t}\\frac{C_t}{C_{t+1}}  \\right] R_t\\\\\n",
        "w_t = \\psi h_t^{1/\\nu} C_t\n",
        "$$\n",
        "\n",
        "\n",
        "\n",
        "If nominal bond is available for households: \n",
        "$$\n",
        "1 = \\mathbb{E}_t \\left[\\beta \\frac{b_{t+1}}{b_t}\\frac{C_t}{C_{t+1}} \\frac{R_t^n}{\\pi_{t+1}} \\right] \\\\\n",
        "$$"
      ],
      "metadata": {
        "id": "8rY5qIb9kyxE"
      }
    },
    {
      "cell_type": "markdown",
      "source": [
        "### Producers\n",
        "\n",
        "$$\n",
        "Y_t = (u_t K_{t-1})^\\alpha h_t^{1-\\alpha}\\\\\n",
        "r_t^k = \\alpha (u_t K_{t-1})^{\\alpha - 1} h_t^{1-\\alpha}\\\\\n",
        "w_t = (1-\\alpha) (u_t K_{t-1})^\\alpha h_t^{-\\alpha}\n",
        "$$\n",
        "The law of motion for capital:\n",
        "$$\n",
        "K_t = (1-\\delta) K_{t-1} + \\mu_t \\left[ 1 - S\\left( \\frac{I_t}{I_{t-1}} \\right)  \\right] I_t \n",
        "$$\n",
        "where \n",
        "$$S\\left( \\frac{I_t}{I_{t-1}} \\right) = \\frac{\\kappa}{2} \\left( \\frac{I_t}{I_{t-1}} - 1 \\right)^2.$$\n",
        "$\\kappa$ is $1.8$ or $0$.\n",
        "The optimal condition for the capital-good producer's problem:\n",
        "$$\n",
        "1 = q_t \\mu_t \\left[\n",
        "  1 - S \\left(\\frac{I_t}{I_{t-1}} \\right) - S'\\left(\\frac{I_t}{I_{t-1}} \\right) \\frac{I_t}{I_{t-1}} + \n",
        "   \\right]\n",
        "+ \\mathbb{E}_t \\left\\{ \n",
        "  \\beta \\frac{C_t}{C_{t+1}} \\frac{b_{t+1}}{b_t} q_{t+1} \\mu_{t+1} S'\\left(\\frac{I_t}{I_{t-1}} \\right) \\left(\\frac{I_t}{I_{t-1}} \\right)^2\n",
        "  \\right\\}\n",
        "$$"
      ],
      "metadata": {
        "id": "NIRVVO6NlfHB"
      }
    },
    {
      "cell_type": "code",
      "source": [
        ""
      ],
      "metadata": {
        "colab": {
          "base_uri": "https://localhost:8080/"
        },
        "id": "eQzDeOWYhSXE",
        "outputId": "d7365e3f-1c7a-46dd-d1f6-cbbd565dc26f"
      },
      "execution_count": null,
      "outputs": [
        {
          "name": "stdout",
          "output_type": "stream",
          "text": [
            "Once deleted, variables cannot be recovered. Proceed (y/[n])? y\n"
          ]
        }
      ]
    },
    {
      "cell_type": "markdown",
      "source": [
        "### Entrepreneurs and banks:\n",
        "\n",
        "Capital utilization rate\n",
        "$$\n",
        "r_{t}^{k} = a'(u_{t}), \n",
        "$$\n",
        "where \n",
        "$$\n",
        "a(u)= r^k \\left[   \\frac{a_p}{2} u^2 + (1 - a_p) u  + \\frac{a_p}{2} - 1 \\right]\\\\\n",
        "a'(u) = r^k (a_p u + 1 - a_p)\n",
        "$$\n",
        "where\n",
        "$a_p = 0.5$ or $1e+10$.\n",
        "\n",
        "Eqn (C1) - (C6)\n",
        "$$\n",
        "q_{t}K_{t} = L_{t}N_{t}, \\\\\n",
        "0 = \\mathbb{E}_{t} \\left[ [1 - \\Gamma_{t}(\\bar{\\omega}_{t+1})]s_{t+1} + \\frac{\\Gamma_{t+1}'(\\bar{\\omega}_{t+1})\\{[\\Gamma_{t+1}(\\bar{\\omega}_{t+1}) - \\mu G_{t+1}(\\bar{\\omega}_{t+1})]s_{t+1} - 1\\}}{\\Gamma_{t+1}'(\\bar{\\omega}_{t+1}) - \\mu G_{t+1}'(\\bar{\\omega}_{t+1})} \\right], \\\\\n",
        "0 = [\\Gamma_{t+1}(\\bar{\\omega}_{t+1}) - \\mu G_{t+1}(\\bar{\\omega}_{t+1})]s_{t+1} L_{t} - L_{t} + 1, \\\\\n",
        "N_{t} = \\gamma [1 - \\Gamma_{t}(\\bar{\\omega}_{t+1})] R_{t}^{k}L_{t-1}N_{t-1} + \\xi Y_{t}, \\\\\n",
        "CS_{t} = \\mathbb{E}_{t} \\frac{\\bar{\\omega}_{t+1}R_{t+1}^{k}L_{t}}{L_{t} - 1} - R_{t}, \\\\\n",
        "Y_{t} = C_{t} + I_{t} + a(u_{t})K_{t-1} + Mcost_{t}, \n",
        "$$\n",
        "where\n",
        "$$\n",
        "G_{t+1}(\\bar{\\omega}_{t+1}) = \\int_{0}^{\\bar{\\omega}} \\omega dF_{t+1}^{r}(\\omega), \\\\\n",
        "\\Gamma_{t+1}(\\bar{\\omega}) = [1 - F_{t+1}^{r}(\\bar{\\omega})]\\bar{\\omega} + G_{t+1}(\\bar{\\omega}), \\\\\n",
        "s_{t} = \\frac{\\mathbb{E}_{t}\\{R_{t+1}^{k}\\}}{R_{t}}, \\\\\n",
        "Mcost_{t} = \\mu G_{t}(\\bar{\\omega}_{t}) R_{t}^{k} q_{t-1} k_{t-1}.\n",
        "$$"
      ],
      "metadata": {
        "id": "S4jziuDvpF84"
      }
    },
    {
      "cell_type": "code",
      "source": [
        "@simple\n",
        "def "
      ],
      "metadata": {
        "id": "KrgFk0NhhaI0"
      },
      "execution_count": null,
      "outputs": []
    },
    {
      "cell_type": "code",
      "source": [
        ""
      ],
      "metadata": {
        "id": "KalgygZThpEU"
      },
      "execution_count": null,
      "outputs": []
    },
    {
      "cell_type": "code",
      "source": [
        ""
      ],
      "metadata": {
        "id": "LpcIFQ3qhyAd"
      },
      "execution_count": null,
      "outputs": []
    }
  ]
}